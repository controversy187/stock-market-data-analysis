{
 "cells": [
  {
   "cell_type": "code",
   "execution_count": 21,
   "id": "d23a4281-1e34-499d-86d7-24a0b13a7eda",
   "metadata": {
    "execution": {
     "iopub.execute_input": "2023-07-20T20:25:28.734257Z",
     "iopub.status.busy": "2023-07-20T20:25:28.733162Z",
     "iopub.status.idle": "2023-07-20T20:25:32.328217Z",
     "shell.execute_reply": "2023-07-20T20:25:32.326699Z",
     "shell.execute_reply.started": "2023-07-20T20:25:28.734257Z"
    }
   },
   "outputs": [],
   "source": [
    "import pandas\n",
    "from pandas_datareader import DataReader\n",
    "from datetime import datetime\n",
    "\n",
    "# FB has changed to META since the recording of the tutorial\n",
    "stocks_list = [\"META\",\n",
    "              \"AMZN\",\n",
    "              \"NFLX\",\n",
    "              \"GOOG\"]\n",
    "\n",
    "start = datetime(datetime.now().year - 1, \n",
    "                 datetime.now().month, \n",
    "                 datetime.now().day)\n",
    "\n",
    "end = datetime.now()\n",
    "\n",
    "\n",
    "for stock in stocks_list:\n",
    "    # The tutorial used Yahoo, but Yahoo changed their API so I switched to \"stooq\"\n",
    "    # https://stackoverflow.com/questions/74862453/why-am-i-getting-a-typeerror-string-indices-must-be-integer-message-when-tryi\n",
    "    globals()[stock] = DataReader(stock, \"stooq\", start, end)"
   ]
  },
  {
   "cell_type": "code",
   "execution_count": 24,
   "id": "3b4281e8-70a8-49b9-99ec-cd9bf323dc3f",
   "metadata": {
    "execution": {
     "iopub.execute_input": "2023-07-20T20:26:12.759231Z",
     "iopub.status.busy": "2023-07-20T20:26:12.758024Z",
     "iopub.status.idle": "2023-07-20T20:26:12.788254Z",
     "shell.execute_reply": "2023-07-20T20:26:12.787290Z",
     "shell.execute_reply.started": "2023-07-20T20:26:12.758732Z"
    }
   },
   "outputs": [
    {
     "data": {
      "text/html": [
       "<div>\n",
       "<style scoped>\n",
       "    .dataframe tbody tr th:only-of-type {\n",
       "        vertical-align: middle;\n",
       "    }\n",
       "\n",
       "    .dataframe tbody tr th {\n",
       "        vertical-align: top;\n",
       "    }\n",
       "\n",
       "    .dataframe thead th {\n",
       "        text-align: right;\n",
       "    }\n",
       "</style>\n",
       "<table border=\"1\" class=\"dataframe\">\n",
       "  <thead>\n",
       "    <tr style=\"text-align: right;\">\n",
       "      <th></th>\n",
       "      <th>Open</th>\n",
       "      <th>High</th>\n",
       "      <th>Low</th>\n",
       "      <th>Close</th>\n",
       "      <th>Volume</th>\n",
       "    </tr>\n",
       "  </thead>\n",
       "  <tbody>\n",
       "    <tr>\n",
       "      <th>count</th>\n",
       "      <td>251.000000</td>\n",
       "      <td>251.000000</td>\n",
       "      <td>251.000000</td>\n",
       "      <td>251.000000</td>\n",
       "      <td>2.510000e+02</td>\n",
       "    </tr>\n",
       "    <tr>\n",
       "      <th>mean</th>\n",
       "      <td>179.687368</td>\n",
       "      <td>182.994067</td>\n",
       "      <td>177.436044</td>\n",
       "      <td>180.310657</td>\n",
       "      <td>3.223539e+07</td>\n",
       "    </tr>\n",
       "    <tr>\n",
       "      <th>std</th>\n",
       "      <td>57.261963</td>\n",
       "      <td>57.880633</td>\n",
       "      <td>56.902501</td>\n",
       "      <td>57.573755</td>\n",
       "      <td>2.203180e+07</td>\n",
       "    </tr>\n",
       "    <tr>\n",
       "      <th>min</th>\n",
       "      <td>90.080000</td>\n",
       "      <td>90.457600</td>\n",
       "      <td>88.090000</td>\n",
       "      <td>88.910000</td>\n",
       "      <td>8.629269e+06</td>\n",
       "    </tr>\n",
       "    <tr>\n",
       "      <th>25%</th>\n",
       "      <td>132.910000</td>\n",
       "      <td>136.885000</td>\n",
       "      <td>131.580000</td>\n",
       "      <td>133.340000</td>\n",
       "      <td>2.089542e+07</td>\n",
       "    </tr>\n",
       "    <tr>\n",
       "      <th>50%</th>\n",
       "      <td>169.000000</td>\n",
       "      <td>172.320000</td>\n",
       "      <td>167.280000</td>\n",
       "      <td>169.580000</td>\n",
       "      <td>2.616363e+07</td>\n",
       "    </tr>\n",
       "    <tr>\n",
       "      <th>75%</th>\n",
       "      <td>214.772500</td>\n",
       "      <td>216.890000</td>\n",
       "      <td>212.850000</td>\n",
       "      <td>215.225000</td>\n",
       "      <td>3.528435e+07</td>\n",
       "    </tr>\n",
       "    <tr>\n",
       "      <th>max</th>\n",
       "      <td>313.620000</td>\n",
       "      <td>318.680000</td>\n",
       "      <td>310.520000</td>\n",
       "      <td>316.010000</td>\n",
       "      <td>2.323166e+08</td>\n",
       "    </tr>\n",
       "  </tbody>\n",
       "</table>\n",
       "</div>"
      ],
      "text/plain": [
       "             Open        High         Low       Close        Volume\n",
       "count  251.000000  251.000000  251.000000  251.000000  2.510000e+02\n",
       "mean   179.687368  182.994067  177.436044  180.310657  3.223539e+07\n",
       "std     57.261963   57.880633   56.902501   57.573755  2.203180e+07\n",
       "min     90.080000   90.457600   88.090000   88.910000  8.629269e+06\n",
       "25%    132.910000  136.885000  131.580000  133.340000  2.089542e+07\n",
       "50%    169.000000  172.320000  167.280000  169.580000  2.616363e+07\n",
       "75%    214.772500  216.890000  212.850000  215.225000  3.528435e+07\n",
       "max    313.620000  318.680000  310.520000  316.010000  2.323166e+08"
      ]
     },
     "execution_count": 24,
     "metadata": {},
     "output_type": "execute_result"
    }
   ],
   "source": [
    "META.describe()"
   ]
  },
  {
   "cell_type": "code",
   "execution_count": 25,
   "id": "4c38bc2d-090a-45bb-943a-020d9e9cff93",
   "metadata": {
    "execution": {
     "iopub.execute_input": "2023-07-20T20:26:38.553340Z",
     "iopub.status.busy": "2023-07-20T20:26:38.553340Z",
     "iopub.status.idle": "2023-07-20T20:26:38.570661Z",
     "shell.execute_reply": "2023-07-20T20:26:38.569669Z",
     "shell.execute_reply.started": "2023-07-20T20:26:38.553340Z"
    }
   },
   "outputs": [
    {
     "name": "stdout",
     "output_type": "stream",
     "text": [
      "               Open     High       Low   Close    Volume\n",
      "Date                                                    \n",
      "2023-07-19  133.390  135.990  132.5300  135.36  54531037\n",
      "2023-07-18  132.710  133.860  131.3550  132.83  54969133\n",
      "2023-07-17  134.560  135.620  133.2100  133.56  48450198\n",
      "2023-07-14  134.060  136.650  134.0600  134.68  54487090\n",
      "2023-07-13  134.040  134.670  132.7100  134.30  61170883\n",
      "...             ...      ...       ...     ...       ...\n",
      "2022-07-26  115.790  118.150  114.5300  114.81  67075064\n",
      "2022-07-25  122.695  123.640  120.0300  121.14  50221259\n",
      "2022-07-22  125.010  125.500  121.3504  122.42  51463797\n",
      "2022-07-21  123.200  124.850  121.2600  124.63  60239892\n",
      "2022-07-20  118.615  123.475  118.3200  122.77  71268322\n",
      "\n",
      "[251 rows x 5 columns]\n"
     ]
    }
   ],
   "source": [
    "print(AMZN)"
   ]
  },
  {
   "cell_type": "code",
   "execution_count": 26,
   "id": "57a7c196-fc02-445b-9757-4c4c43d4ac82",
   "metadata": {
    "execution": {
     "iopub.execute_input": "2023-07-20T20:27:42.691521Z",
     "iopub.status.busy": "2023-07-20T20:27:42.691521Z",
     "iopub.status.idle": "2023-07-20T20:27:42.711071Z",
     "shell.execute_reply": "2023-07-20T20:27:42.710076Z",
     "shell.execute_reply.started": "2023-07-20T20:27:42.691521Z"
    }
   },
   "outputs": [
    {
     "name": "stdout",
     "output_type": "stream",
     "text": [
      "<class 'pandas.core.frame.DataFrame'>\n",
      "DatetimeIndex: 251 entries, 2023-07-19 to 2022-07-20\n",
      "Data columns (total 5 columns):\n",
      " #   Column  Non-Null Count  Dtype  \n",
      "---  ------  --------------  -----  \n",
      " 0   Open    251 non-null    float64\n",
      " 1   High    251 non-null    float64\n",
      " 2   Low     251 non-null    float64\n",
      " 3   Close   251 non-null    float64\n",
      " 4   Volume  251 non-null    int64  \n",
      "dtypes: float64(4), int64(1)\n",
      "memory usage: 11.8 KB\n"
     ]
    }
   ],
   "source": [
    "NFLX.info()"
   ]
  }
 ],
 "metadata": {
  "kernelspec": {
   "display_name": "Python 3 (ipykernel)",
   "language": "python",
   "name": "python3"
  },
  "language_info": {
   "codemirror_mode": {
    "name": "ipython",
    "version": 3
   },
   "file_extension": ".py",
   "mimetype": "text/x-python",
   "name": "python",
   "nbconvert_exporter": "python",
   "pygments_lexer": "ipython3",
   "version": "3.11.3"
  }
 },
 "nbformat": 4,
 "nbformat_minor": 5
}
